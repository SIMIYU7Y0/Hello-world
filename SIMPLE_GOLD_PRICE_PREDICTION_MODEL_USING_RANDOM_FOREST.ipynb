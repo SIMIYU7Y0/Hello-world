{
  "nbformat": 4,
  "nbformat_minor": 0,
  "metadata": {
    "colab": {
      "name": "SIMPLE GOLD PRICE PREDICTION MODEL USING RANDOM FOREST.ipynb",
      "provenance": [],
      "authorship_tag": "ABX9TyPxdZGTezm/5+xDHx8V8nZ3",
      "include_colab_link": true
    },
    "kernelspec": {
      "name": "python3",
      "display_name": "Python 3"
    },
    "language_info": {
      "name": "python"
    }
  },
  "cells": [
    {
      "cell_type": "markdown",
      "metadata": {
        "id": "view-in-github",
        "colab_type": "text"
      },
      "source": [
        "<a href=\"https://colab.research.google.com/github/SIMIYU7Y0/Hello-world/blob/features/SIMPLE_GOLD_PRICE_PREDICTION_MODEL_USING_RANDOM_FOREST.ipynb\" target=\"_parent\"><img src=\"https://colab.research.google.com/assets/colab-badge.svg\" alt=\"Open In Colab\"/></a>"
      ]
    },
    {
      "cell_type": "code",
      "metadata": {
        "id": "d5Gotz6ekN01"
      },
      "source": [
        "import pandas as pd\n",
        "import numpy as np\n",
        "import seaborn as sns\n",
        "import matplotlib.pyplot as plt\n",
        "from sklearn.model_selection import train_test_split\n",
        "from sklearn.ensemble import RandomForestRegressor\n",
        "from sklearn import metrics\n"
      ],
      "execution_count": 2,
      "outputs": []
    },
    {
      "cell_type": "markdown",
      "metadata": {
        "id": "Rey59qKOsMvL"
      },
      "source": [
        "DATA COLLECTION AND PREPROCEING\n"
      ]
    },
    {
      "cell_type": "code",
      "metadata": {
        "colab": {
          "base_uri": "https://localhost:8080/",
          "height": 204
        },
        "id": "re5LFpR8sULG",
        "outputId": "7d6a3122-ae26-4352-fdbc-5f415172202e"
      },
      "source": [
        "df=pd.read_csv(\"/content/gld_price_data.csv\")\n",
        "df.head()"
      ],
      "execution_count": 5,
      "outputs": [
        {
          "output_type": "execute_result",
          "data": {
            "text/html": [
              "<div>\n",
              "<style scoped>\n",
              "    .dataframe tbody tr th:only-of-type {\n",
              "        vertical-align: middle;\n",
              "    }\n",
              "\n",
              "    .dataframe tbody tr th {\n",
              "        vertical-align: top;\n",
              "    }\n",
              "\n",
              "    .dataframe thead th {\n",
              "        text-align: right;\n",
              "    }\n",
              "</style>\n",
              "<table border=\"1\" class=\"dataframe\">\n",
              "  <thead>\n",
              "    <tr style=\"text-align: right;\">\n",
              "      <th></th>\n",
              "      <th>Date</th>\n",
              "      <th>SPX</th>\n",
              "      <th>GLD</th>\n",
              "      <th>USO</th>\n",
              "      <th>SLV</th>\n",
              "      <th>EUR/USD</th>\n",
              "    </tr>\n",
              "  </thead>\n",
              "  <tbody>\n",
              "    <tr>\n",
              "      <th>0</th>\n",
              "      <td>1/2/2008</td>\n",
              "      <td>1447.160034</td>\n",
              "      <td>84.860001</td>\n",
              "      <td>78.470001</td>\n",
              "      <td>15.180</td>\n",
              "      <td>1.471692</td>\n",
              "    </tr>\n",
              "    <tr>\n",
              "      <th>1</th>\n",
              "      <td>1/3/2008</td>\n",
              "      <td>1447.160034</td>\n",
              "      <td>85.570000</td>\n",
              "      <td>78.370003</td>\n",
              "      <td>15.285</td>\n",
              "      <td>1.474491</td>\n",
              "    </tr>\n",
              "    <tr>\n",
              "      <th>2</th>\n",
              "      <td>1/4/2008</td>\n",
              "      <td>1411.630005</td>\n",
              "      <td>85.129997</td>\n",
              "      <td>77.309998</td>\n",
              "      <td>15.167</td>\n",
              "      <td>1.475492</td>\n",
              "    </tr>\n",
              "    <tr>\n",
              "      <th>3</th>\n",
              "      <td>1/7/2008</td>\n",
              "      <td>1416.180054</td>\n",
              "      <td>84.769997</td>\n",
              "      <td>75.500000</td>\n",
              "      <td>15.053</td>\n",
              "      <td>1.468299</td>\n",
              "    </tr>\n",
              "    <tr>\n",
              "      <th>4</th>\n",
              "      <td>1/8/2008</td>\n",
              "      <td>1390.189941</td>\n",
              "      <td>86.779999</td>\n",
              "      <td>76.059998</td>\n",
              "      <td>15.590</td>\n",
              "      <td>1.557099</td>\n",
              "    </tr>\n",
              "  </tbody>\n",
              "</table>\n",
              "</div>"
            ],
            "text/plain": [
              "       Date          SPX        GLD        USO     SLV   EUR/USD\n",
              "0  1/2/2008  1447.160034  84.860001  78.470001  15.180  1.471692\n",
              "1  1/3/2008  1447.160034  85.570000  78.370003  15.285  1.474491\n",
              "2  1/4/2008  1411.630005  85.129997  77.309998  15.167  1.475492\n",
              "3  1/7/2008  1416.180054  84.769997  75.500000  15.053  1.468299\n",
              "4  1/8/2008  1390.189941  86.779999  76.059998  15.590  1.557099"
            ]
          },
          "metadata": {
            "tags": []
          },
          "execution_count": 5
        }
      ]
    },
    {
      "cell_type": "code",
      "metadata": {
        "colab": {
          "base_uri": "https://localhost:8080/",
          "height": 204
        },
        "id": "tK1gL67GtoTK",
        "outputId": "9e126754-00fe-4f81-a601-e5a4d3adb2c9"
      },
      "source": [
        "#printing the last 5 rows\n",
        "df.tail()"
      ],
      "execution_count": 6,
      "outputs": [
        {
          "output_type": "execute_result",
          "data": {
            "text/html": [
              "<div>\n",
              "<style scoped>\n",
              "    .dataframe tbody tr th:only-of-type {\n",
              "        vertical-align: middle;\n",
              "    }\n",
              "\n",
              "    .dataframe tbody tr th {\n",
              "        vertical-align: top;\n",
              "    }\n",
              "\n",
              "    .dataframe thead th {\n",
              "        text-align: right;\n",
              "    }\n",
              "</style>\n",
              "<table border=\"1\" class=\"dataframe\">\n",
              "  <thead>\n",
              "    <tr style=\"text-align: right;\">\n",
              "      <th></th>\n",
              "      <th>Date</th>\n",
              "      <th>SPX</th>\n",
              "      <th>GLD</th>\n",
              "      <th>USO</th>\n",
              "      <th>SLV</th>\n",
              "      <th>EUR/USD</th>\n",
              "    </tr>\n",
              "  </thead>\n",
              "  <tbody>\n",
              "    <tr>\n",
              "      <th>2285</th>\n",
              "      <td>5/8/2018</td>\n",
              "      <td>2671.919922</td>\n",
              "      <td>124.589996</td>\n",
              "      <td>14.0600</td>\n",
              "      <td>15.5100</td>\n",
              "      <td>1.186789</td>\n",
              "    </tr>\n",
              "    <tr>\n",
              "      <th>2286</th>\n",
              "      <td>5/9/2018</td>\n",
              "      <td>2697.790039</td>\n",
              "      <td>124.330002</td>\n",
              "      <td>14.3700</td>\n",
              "      <td>15.5300</td>\n",
              "      <td>1.184722</td>\n",
              "    </tr>\n",
              "    <tr>\n",
              "      <th>2287</th>\n",
              "      <td>5/10/2018</td>\n",
              "      <td>2723.070068</td>\n",
              "      <td>125.180000</td>\n",
              "      <td>14.4100</td>\n",
              "      <td>15.7400</td>\n",
              "      <td>1.191753</td>\n",
              "    </tr>\n",
              "    <tr>\n",
              "      <th>2288</th>\n",
              "      <td>5/14/2018</td>\n",
              "      <td>2730.129883</td>\n",
              "      <td>124.489998</td>\n",
              "      <td>14.3800</td>\n",
              "      <td>15.5600</td>\n",
              "      <td>1.193118</td>\n",
              "    </tr>\n",
              "    <tr>\n",
              "      <th>2289</th>\n",
              "      <td>5/16/2018</td>\n",
              "      <td>2725.780029</td>\n",
              "      <td>122.543800</td>\n",
              "      <td>14.4058</td>\n",
              "      <td>15.4542</td>\n",
              "      <td>1.182033</td>\n",
              "    </tr>\n",
              "  </tbody>\n",
              "</table>\n",
              "</div>"
            ],
            "text/plain": [
              "           Date          SPX         GLD      USO      SLV   EUR/USD\n",
              "2285   5/8/2018  2671.919922  124.589996  14.0600  15.5100  1.186789\n",
              "2286   5/9/2018  2697.790039  124.330002  14.3700  15.5300  1.184722\n",
              "2287  5/10/2018  2723.070068  125.180000  14.4100  15.7400  1.191753\n",
              "2288  5/14/2018  2730.129883  124.489998  14.3800  15.5600  1.193118\n",
              "2289  5/16/2018  2725.780029  122.543800  14.4058  15.4542  1.182033"
            ]
          },
          "metadata": {
            "tags": []
          },
          "execution_count": 6
        }
      ]
    },
    {
      "cell_type": "code",
      "metadata": {
        "colab": {
          "base_uri": "https://localhost:8080/"
        },
        "id": "Ti5JL8WStwpP",
        "outputId": "a1b67de5-b61e-4a9d-8342-2ec292d1d277"
      },
      "source": [
        "df.shape"
      ],
      "execution_count": 7,
      "outputs": [
        {
          "output_type": "execute_result",
          "data": {
            "text/plain": [
              "(2290, 6)"
            ]
          },
          "metadata": {
            "tags": []
          },
          "execution_count": 7
        }
      ]
    },
    {
      "cell_type": "code",
      "metadata": {
        "colab": {
          "base_uri": "https://localhost:8080/"
        },
        "id": "ZwD738Uqt8ah",
        "outputId": "3b63b591-3944-4d4a-edc7-1fb6b1c35740"
      },
      "source": [
        "df.info()"
      ],
      "execution_count": 8,
      "outputs": [
        {
          "output_type": "stream",
          "text": [
            "<class 'pandas.core.frame.DataFrame'>\n",
            "RangeIndex: 2290 entries, 0 to 2289\n",
            "Data columns (total 6 columns):\n",
            " #   Column   Non-Null Count  Dtype  \n",
            "---  ------   --------------  -----  \n",
            " 0   Date     2290 non-null   object \n",
            " 1   SPX      2290 non-null   float64\n",
            " 2   GLD      2290 non-null   float64\n",
            " 3   USO      2290 non-null   float64\n",
            " 4   SLV      2290 non-null   float64\n",
            " 5   EUR/USD  2290 non-null   float64\n",
            "dtypes: float64(5), object(1)\n",
            "memory usage: 107.5+ KB\n"
          ],
          "name": "stdout"
        }
      ]
    },
    {
      "cell_type": "code",
      "metadata": {
        "colab": {
          "base_uri": "https://localhost:8080/"
        },
        "id": "6-T1s_FSuLWH",
        "outputId": "ca089a59-4674-4d31-de09-1c825462d2c5"
      },
      "source": [
        "#check the number of missing values\n",
        "df.isnull().sum()"
      ],
      "execution_count": 12,
      "outputs": [
        {
          "output_type": "execute_result",
          "data": {
            "text/plain": [
              "Date       0\n",
              "SPX        0\n",
              "GLD        0\n",
              "USO        0\n",
              "SLV        0\n",
              "EUR/USD    0\n",
              "dtype: int64"
            ]
          },
          "metadata": {
            "tags": []
          },
          "execution_count": 12
        }
      ]
    },
    {
      "cell_type": "code",
      "metadata": {
        "colab": {
          "base_uri": "https://localhost:8080/",
          "height": 297
        },
        "id": "fon8yf6lulTi",
        "outputId": "8a0cdef8-1144-4088-e676-ac21d8bc87f3"
      },
      "source": [
        "#STATISTICAL INSIGHT\n",
        "df.describe()"
      ],
      "execution_count": 16,
      "outputs": [
        {
          "output_type": "execute_result",
          "data": {
            "text/html": [
              "<div>\n",
              "<style scoped>\n",
              "    .dataframe tbody tr th:only-of-type {\n",
              "        vertical-align: middle;\n",
              "    }\n",
              "\n",
              "    .dataframe tbody tr th {\n",
              "        vertical-align: top;\n",
              "    }\n",
              "\n",
              "    .dataframe thead th {\n",
              "        text-align: right;\n",
              "    }\n",
              "</style>\n",
              "<table border=\"1\" class=\"dataframe\">\n",
              "  <thead>\n",
              "    <tr style=\"text-align: right;\">\n",
              "      <th></th>\n",
              "      <th>SPX</th>\n",
              "      <th>GLD</th>\n",
              "      <th>USO</th>\n",
              "      <th>SLV</th>\n",
              "      <th>EUR/USD</th>\n",
              "    </tr>\n",
              "  </thead>\n",
              "  <tbody>\n",
              "    <tr>\n",
              "      <th>count</th>\n",
              "      <td>2290.000000</td>\n",
              "      <td>2290.000000</td>\n",
              "      <td>2290.000000</td>\n",
              "      <td>2290.000000</td>\n",
              "      <td>2290.000000</td>\n",
              "    </tr>\n",
              "    <tr>\n",
              "      <th>mean</th>\n",
              "      <td>1654.315776</td>\n",
              "      <td>122.732875</td>\n",
              "      <td>31.842221</td>\n",
              "      <td>20.084997</td>\n",
              "      <td>1.283653</td>\n",
              "    </tr>\n",
              "    <tr>\n",
              "      <th>std</th>\n",
              "      <td>519.111540</td>\n",
              "      <td>23.283346</td>\n",
              "      <td>19.523517</td>\n",
              "      <td>7.092566</td>\n",
              "      <td>0.131547</td>\n",
              "    </tr>\n",
              "    <tr>\n",
              "      <th>min</th>\n",
              "      <td>676.530029</td>\n",
              "      <td>70.000000</td>\n",
              "      <td>7.960000</td>\n",
              "      <td>8.850000</td>\n",
              "      <td>1.039047</td>\n",
              "    </tr>\n",
              "    <tr>\n",
              "      <th>25%</th>\n",
              "      <td>1239.874969</td>\n",
              "      <td>109.725000</td>\n",
              "      <td>14.380000</td>\n",
              "      <td>15.570000</td>\n",
              "      <td>1.171313</td>\n",
              "    </tr>\n",
              "    <tr>\n",
              "      <th>50%</th>\n",
              "      <td>1551.434998</td>\n",
              "      <td>120.580002</td>\n",
              "      <td>33.869999</td>\n",
              "      <td>17.268500</td>\n",
              "      <td>1.303296</td>\n",
              "    </tr>\n",
              "    <tr>\n",
              "      <th>75%</th>\n",
              "      <td>2073.010070</td>\n",
              "      <td>132.840004</td>\n",
              "      <td>37.827501</td>\n",
              "      <td>22.882499</td>\n",
              "      <td>1.369971</td>\n",
              "    </tr>\n",
              "    <tr>\n",
              "      <th>max</th>\n",
              "      <td>2872.870117</td>\n",
              "      <td>184.589996</td>\n",
              "      <td>117.480003</td>\n",
              "      <td>47.259998</td>\n",
              "      <td>1.598798</td>\n",
              "    </tr>\n",
              "  </tbody>\n",
              "</table>\n",
              "</div>"
            ],
            "text/plain": [
              "               SPX          GLD          USO          SLV      EUR/USD\n",
              "count  2290.000000  2290.000000  2290.000000  2290.000000  2290.000000\n",
              "mean   1654.315776   122.732875    31.842221    20.084997     1.283653\n",
              "std     519.111540    23.283346    19.523517     7.092566     0.131547\n",
              "min     676.530029    70.000000     7.960000     8.850000     1.039047\n",
              "25%    1239.874969   109.725000    14.380000    15.570000     1.171313\n",
              "50%    1551.434998   120.580002    33.869999    17.268500     1.303296\n",
              "75%    2073.010070   132.840004    37.827501    22.882499     1.369971\n",
              "max    2872.870117   184.589996   117.480003    47.259998     1.598798"
            ]
          },
          "metadata": {
            "tags": []
          },
          "execution_count": 16
        }
      ]
    },
    {
      "cell_type": "code",
      "metadata": {
        "id": "DMMTeiOSu5Kd"
      },
      "source": [
        "#correlation\n",
        "correlation= df.corr()"
      ],
      "execution_count": 19,
      "outputs": []
    },
    {
      "cell_type": "code",
      "metadata": {
        "colab": {
          "base_uri": "https://localhost:8080/",
          "height": 487
        },
        "id": "b3fc9aUcvZk5",
        "outputId": "569d4955-084c-4285-aad0-b24ed9aea563"
      },
      "source": [
        "#CONSTRCTNG A HEAT MAP\n",
        "plt.figure(figsize=(8,8))\n",
        "sns.heatmap(correlation, cbar=True, square=True,cmap='flare')\n"
      ],
      "execution_count": 42,
      "outputs": [
        {
          "output_type": "execute_result",
          "data": {
            "text/plain": [
              "<matplotlib.axes._subplots.AxesSubplot at 0x7fd1ed3cc210>"
            ]
          },
          "metadata": {
            "tags": []
          },
          "execution_count": 42
        },
        {
          "output_type": "display_data",
          "data": {
            "image/png": "[encoded data removed]",
            "text/plain": [
              "<Figure size 576x576 with 2 Axes>"
            ]
          },
          "metadata": {
            "tags": [],
            "needs_background": "light"
          }
        }
      ]
    },
    {
      "cell_type": "code",
      "metadata": {
        "colab": {
          "base_uri": "https://localhost:8080/"
        },
        "id": "qmdKPhxIxb4u",
        "outputId": "dc1b0b27-8ee6-4df3-84d8-f8674b7530e6"
      },
      "source": [
        "print(correlation['GLD'])"
      ],
      "execution_count": 26,
      "outputs": [
        {
          "output_type": "stream",
          "text": [
            "SPX        0.049345\n",
            "GLD        1.000000\n",
            "USO       -0.186360\n",
            "SLV        0.866632\n",
            "EUR/USD   -0.024375\n",
            "Name: GLD, dtype: float64\n"
          ],
          "name": "stdout"
        }
      ]
    },
    {
      "cell_type": "code",
      "metadata": {
        "colab": {
          "base_uri": "https://localhost:8080/",
          "height": 354
        },
        "id": "Yq2pmwvvx2qr",
        "outputId": "e7a2a305-9619-4a8b-8785-c6c525e1166d"
      },
      "source": [
        "#CREATING GOLD PRICE DISTRIBUTION\n",
        "sns.distplot(df['GLD'], color='blue')"
      ],
      "execution_count": 27,
      "outputs": [
        {
          "output_type": "stream",
          "text": [
            "/usr/local/lib/python3.7/dist-packages/seaborn/distributions.py:2557: FutureWarning: `distplot` is a deprecated function and will be removed in a future version. Please adapt your code to use either `displot` (a figure-level function with similar flexibility) or `histplot` (an axes-level function for histograms).\n",
            "  warnings.warn(msg, FutureWarning)\n"
          ],
          "name": "stderr"
        },
        {
          "output_type": "execute_result",
          "data": {
            "text/plain": [
              "<matplotlib.axes._subplots.AxesSubplot at 0x7fd1f081ea10>"
            ]
          },
          "metadata": {
            "tags": []
          },
          "execution_count": 27
        },
        {
          "output_type": "display_data",
          "data": {
            "image/png": "[encoded data removed]",
            "text/plain": [
              "<Figure size 432x288 with 1 Axes>"
            ]
          },
          "metadata": {
            "tags": [],
            "needs_background": "light"
          }
        }
      ]
    },
    {
      "cell_type": "code",
      "metadata": {
        "colab": {
          "base_uri": "https://localhost:8080/"
        },
        "id": "FQ98sKvPzPkW",
        "outputId": "d10f8cea-97f3-45a7-94fc-db59a10c3ef8"
      },
      "source": [
        "#spliting the features\n",
        "x=df.drop(['Date', 'GLD'],axis=1)\n",
        "y=df['GLD']\n",
        "print(x)"
      ],
      "execution_count": 31,
      "outputs": [
        {
          "output_type": "stream",
          "text": [
            "              SPX        USO      SLV   EUR/USD\n",
            "0     1447.160034  78.470001  15.1800  1.471692\n",
            "1     1447.160034  78.370003  15.2850  1.474491\n",
            "2     1411.630005  77.309998  15.1670  1.475492\n",
            "3     1416.180054  75.500000  15.0530  1.468299\n",
            "4     1390.189941  76.059998  15.5900  1.557099\n",
            "...           ...        ...      ...       ...\n",
            "2285  2671.919922  14.060000  15.5100  1.186789\n",
            "2286  2697.790039  14.370000  15.5300  1.184722\n",
            "2287  2723.070068  14.410000  15.7400  1.191753\n",
            "2288  2730.129883  14.380000  15.5600  1.193118\n",
            "2289  2725.780029  14.405800  15.4542  1.182033\n",
            "\n",
            "[2290 rows x 4 columns]\n"
          ],
          "name": "stdout"
        }
      ]
    },
    {
      "cell_type": "code",
      "metadata": {
        "colab": {
          "base_uri": "https://localhost:8080/"
        },
        "id": "UqVKmwg8z5XB",
        "outputId": "faef7539-5c9a-4958-cd18-3c3b7d96635d"
      },
      "source": [
        "print(y)"
      ],
      "execution_count": 32,
      "outputs": [
        {
          "output_type": "stream",
          "text": [
            "0        84.860001\n",
            "1        85.570000\n",
            "2        85.129997\n",
            "3        84.769997\n",
            "4        86.779999\n",
            "           ...    \n",
            "2285    124.589996\n",
            "2286    124.330002\n",
            "2287    125.180000\n",
            "2288    124.489998\n",
            "2289    122.543800\n",
            "Name: GLD, Length: 2290, dtype: float64\n"
          ],
          "name": "stdout"
        }
      ]
    },
    {
      "cell_type": "code",
      "metadata": {
        "id": "ZfynxdqC0E4d"
      },
      "source": [
        "#getting trainig and testing data separate\n",
        "x_train, x_test, y_train, y_test=train_test_split(x,y, test_size=0.2, random_state=2)"
      ],
      "execution_count": 34,
      "outputs": []
    },
    {
      "cell_type": "code",
      "metadata": {
        "id": "OPr-FXRv1ZJQ"
      },
      "source": [
        "#Training the model\n",
        "regessor= RandomForestRegressor(n_estimators=100)"
      ],
      "execution_count": 36,
      "outputs": []
    },
    {
      "cell_type": "code",
      "metadata": {
        "colab": {
          "base_uri": "https://localhost:8080/"
        },
        "id": "91tPGHsx2ZZc",
        "outputId": "e3b4959d-6a29-4fd8-b263-f89347c3a478"
      },
      "source": [
        "regessor.fit(x,y)"
      ],
      "execution_count": 37,
      "outputs": [
        {
          "output_type": "execute_result",
          "data": {
            "text/plain": [
              "RandomForestRegressor(bootstrap=True, ccp_alpha=0.0, criterion='mse',\n",
              "                      max_depth=None, max_features='auto', max_leaf_nodes=None,\n",
              "                      max_samples=None, min_impurity_decrease=0.0,\n",
              "                      min_impurity_split=None, min_samples_leaf=1,\n",
              "                      min_samples_split=2, min_weight_fraction_leaf=0.0,\n",
              "                      n_estimators=100, n_jobs=None, oob_score=False,\n",
              "                      random_state=None, verbose=0, warm_start=False)"
            ]
          },
          "metadata": {
            "tags": []
          },
          "execution_count": 37
        }
      ]
    },
    {
      "cell_type": "code",
      "metadata": {
        "id": "mp7fu0R62qpg"
      },
      "source": [
        "#Evaluating our model based on the tets data\n",
        "predicted= regessor.predict(x_test)"
      ],
      "execution_count": 39,
      "outputs": []
    },
    {
      "cell_type": "code",
      "metadata": {
        "colab": {
          "base_uri": "https://localhost:8080/"
        },
        "id": "VkdIY2Zu3GTj",
        "outputId": "67489938-e39c-47ac-d359-38eddf8d4096"
      },
      "source": [
        "print(predicted)"
      ],
      "execution_count": 40,
      "outputs": [
        {
          "output_type": "stream",
          "text": [
            "[168.2641023   81.60540191 113.4526     127.55829819 120.02730231\n",
            " 154.1028047  149.18560184 126.12690154 117.38670043 125.84309859\n",
            " 115.78439856 167.85369684 141.92560143 168.92029797 115.30879923\n",
            " 118.92399924 135.98939893 170.43879734 159.61419758 165.59969938\n",
            " 154.85240086 127.41479692 176.03020057 157.21260275 125.2341989\n",
            "  93.80620102  76.96340074 120.06000165 118.98639847 167.42099923\n",
            "  87.87860049 124.86230199  91.27350203 116.19779917 121.0330976\n",
            " 134.46829834 116.20050175 114.54269904 139.26120082 106.21770104\n",
            " 104.95150258  87.65409874 126.63900025 116.99280056 157.15609619\n",
            " 119.53179932 109.21520233 108.35470158  93.29669838 127.11420253\n",
            "  72.92650163 113.53470068 119.83829993 109.92209923 119.09499846\n",
            " 120.30780154 160.15559942 164.06370355 146.68960219  85.92889866\n",
            "  94.00239956  86.10950134  91.11919911 118.7141988  126.49829819\n",
            " 127.21810191 170.95049756 122.43630097 116.8894018   98.22409917\n",
            " 169.21330331 142.83149841 132.13579978 121.31060103 123.3786997\n",
            " 119.80609835 114.2352993  118.62769894 106.33499994 127.82519893\n",
            " 114.26669978 107.5770986  115.63040008 119.50380171  87.43150092\n",
            "  87.23990105 147.17099858 127.96439822 113.17340152 110.37929948\n",
            " 107.71170058  75.51550012 171.51830227 114.26119863 121.63290085\n",
            " 128.61260123 156.09860239  91.7372021  134.60079807 160.7074002\n",
            " 127.02750056 125.81160008 131.7802974  114.48429817 118.69850185\n",
            "  93.18359938 110.81150105 164.59969535 157.81920209 115.13910128\n",
            " 107.20119835  81.51249879 114.43640117 125.68730086 106.82340084\n",
            " 120.28880154 156.72900045 160.63119825 120.18329877 133.1434055\n",
            " 102.76909833 116.83760014 119.47549868 112.58760207 102.76519707\n",
            " 160.73799794  97.67310203 148.06550162 125.40780059 170.60889943\n",
            " 123.83830067 127.19499892 127.71420027 114.52680101 111.92000096\n",
            " 123.08329842 101.04189957  89.77660061 124.27899839  99.45150077\n",
            " 106.63949814 111.63540032 119.5788992   98.81509847 122.20039852\n",
            " 162.91930247  86.9232007  106.51660085 116.83070039 127.88669922\n",
            " 123.29800141  80.89900091 119.96319986 159.81269747  88.41500079\n",
            " 109.84240194 117.18280083 169.47159895 102.50749719 105.15699784\n",
            " 122.5578017  159.97880046  87.18989753  93.17290143 111.88600022\n",
            " 174.02500019 114.13740138 119.88809789  94.08849902 125.86199725\n",
            " 167.04319773 115.81920118 117.0332022   87.42810017 149.27599965\n",
            " 119.26850093  89.48599819 113.17170094 115.85509827 118.67439934\n",
            "  87.39869861  93.85270089 116.78490203 118.27720265 121.56430192\n",
            " 127.5402024  122.42059799 140.88560475 164.47190361 118.47979991\n",
            " 120.83200282 152.635497   118.14429896 164.0992989  101.74320233\n",
            " 104.52399832 150.01540526 111.92599875 125.2778016  146.41829654\n",
            " 120.003301   115.62500028 113.13899987 112.62010177 135.26420134\n",
            " 118.00299816 102.66800083 116.16959817 104.1357007   98.63400141\n",
            " 116.70819812  90.97239757  91.97910137 154.03559849 102.49289953\n",
            " 155.04430279 113.86340057 138.42759761  90.98590103 116.02580141\n",
            " 115.01189898 122.88058401 122.14350042 165.86690309  92.69439826\n",
            " 136.92910374 121.35649835 119.68470216 104.49749882 138.12490321\n",
            " 122.56869845 115.94980181 113.3935014  125.77419715 123.22779867\n",
            " 125.74369903 121.46489848  86.04909994 132.42469825 151.91019738\n",
            "  92.2555986  149.58170009 161.40550409 126.9290979  166.3553042\n",
            " 108.52859837 110.0640015  103.99069866  95.34979825 129.24700078\n",
            " 108.10409826 152.46009768 121.82120149 131.8348978  131.7691035\n",
            " 161.0062036   90.47389943 174.32539964 128.26639713 126.83820176\n",
            "  86.69629886 124.07550101 150.3115977   89.42529792 107.57360156\n",
            " 109.96119849  86.97099987 137.25429747 155.76090157 135.28930363\n",
            "  74.06480135 152.7503007  126.45209873 126.32399919 127.74139981\n",
            " 108.47100027 156.90160439 114.2662002  117.14319968 126.1321004\n",
            " 154.82720352 120.75100113 156.81530278  92.83980101 125.45979974\n",
            " 125.04509911  88.20340022  91.83629974 126.25169704 128.53889845\n",
            " 112.88909949 117.40379943 119.95299852 127.73799472 121.22370254\n",
            " 135.11469768  93.88490103 119.27390138 112.52120252  94.59759921\n",
            " 108.72369809  87.3073993  110.031601    88.89109935  93.01529857\n",
            " 131.42830571 162.68549842  89.99700174 119.76100025 133.69620223\n",
            " 125.22559743 127.99339897 101.67529886  89.11489956 132.01739843\n",
            " 122.00280155 109.92429979 171.32060434 115.22259933  85.87419899\n",
            " 121.09169946  90.91110105 161.47640209 116.48599829 120.54880112\n",
            " 160.5471031  121.10139836 114.23959766 109.44480141 126.65699921\n",
            "  74.56979826 102.51080056 129.68129758 121.30073659  91.72359875\n",
            " 132.41029731 118.08010101 116.3217006  155.78870056 160.90500432\n",
            " 110.12259936 141.62740159 119.22950093 161.31330269 118.45130145\n",
            " 159.85499785 114.73780028 117.59710172 148.08210233 115.20320144\n",
            " 126.13540119 166.13459724 117.12860075 125.13379914 153.2463986\n",
            " 153.69350174 132.50619868 114.91549963 121.18720003 125.64720031\n",
            "  91.98589763 122.78019764 152.7838032  111.55919873 106.89469791\n",
            " 162.31279774 119.59420207 165.43500187 132.26280522 115.66559893\n",
            " 153.02120312 168.972195   111.98039998 114.87609838 160.42359784\n",
            "  85.47819974 127.82120103 127.6284977  129.1389048  125.00460082\n",
            " 124.37230184  90.88469947 152.2140971   96.47739755 138.04789573\n",
            "  89.98559954 107.12599966 115.17950039 111.71090091 125.75319842\n",
            "  91.08099819 125.47230308 163.06810354 119.0167992  165.85760462\n",
            " 127.45580018 111.84180001 127.62950098  96.34840162  90.3344018\n",
            "  99.71079746 120.39039854  82.90669783 125.70300184 159.81109682\n",
            " 117.07509908 119.8380019  119.11580144 121.44980167 119.67530217\n",
            " 121.16163773 118.44679888 107.2388985  147.12820352 123.83660061\n",
            " 115.54880024  72.54449954 127.97030505 156.59849796 121.3945006\n",
            " 126.0386988   88.98960135 102.9442019  124.19390003 120.05750226\n",
            "  72.43560169 151.29719998 119.93839965 104.22009837  86.17040173\n",
            " 113.93860109 172.10120395 121.14530202 161.50629387 112.99159791\n",
            " 121.68979863 119.94120162  95.92789866 119.78570166 125.59940019\n",
            " 118.25830134  97.31690262 154.70999673 121.17609788 144.88650088\n",
            " 160.26149803 112.55999836 122.35070151 147.44980213 127.93389894\n",
            " 164.39369697 133.81409635 121.47829845 167.12850255 107.2060978\n",
            " 121.91389869 134.19160141 104.15310009]\n"
          ],
          "name": "stdout"
        }
      ]
    },
    {
      "cell_type": "code",
      "metadata": {
        "colab": {
          "base_uri": "https://localhost:8080/"
        },
        "id": "HcPzmmWn4rOF",
        "outputId": "a39ca059-8817-422e-f48b-1469e7101397"
      },
      "source": [
        "#FINDING r2 of the model\n",
        "r2_score=metrics.r2_score(y_test,predicted)\n",
        "print(\"R QUARED ERROR:\",r2_score)"
      ],
      "execution_count": 43,
      "outputs": [
        {
          "output_type": "stream",
          "text": [
            "R QUARED ERROR: 0.9986661007506097\n"
          ],
          "name": "stdout"
        }
      ]
    },
    {
      "cell_type": "markdown",
      "metadata": {
        "id": "Hfyi1vmD5x_k"
      },
      "source": [
        "COMPARISON BETWEEN ACTUAL VALUES AND PREDICTED VALUES\n"
      ]
    },
    {
      "cell_type": "code",
      "metadata": {
        "id": "boYRUZsf54Aa"
      },
      "source": [
        "y_test=list(y_test)"
      ],
      "execution_count": 45,
      "outputs": []
    },
    {
      "cell_type": "code",
      "metadata": {
        "colab": {
          "base_uri": "https://localhost:8080/",
          "height": 282
        },
        "id": "dXxA2xmn6IDm",
        "outputId": "543ae8fb-5dd4-4e38-f297-66c0523c1b3f"
      },
      "source": [
        "plt.plot(y_test, color='green', label='ACTUAL VALUES')"
      ],
      "execution_count": 46,
      "outputs": [
        {
          "output_type": "execute_result",
          "data": {
            "text/plain": [
              "[<matplotlib.lines.Line2D at 0x7fd1ed2c7b10>]"
            ]
          },
          "metadata": {
            "tags": []
          },
          "execution_count": 46
        },
        {
          "output_type": "display_data",
          "data": {
            "image/png": "[encoded data removed]",
            "text/plain": [
              "<Figure size 432x288 with 1 Axes>"
            ]
          },
          "metadata": {
            "tags": [],
            "needs_background": "light"
          }
        }
      ]
    },
    {
      "cell_type": "code",
      "metadata": {
        "colab": {
          "base_uri": "https://localhost:8080/",
          "height": 295
        },
        "id": "p_NDesp76nkD",
        "outputId": "92e74f77-2843-4dc3-c35a-6929cf21d6ff"
      },
      "source": [
        "plt.plot(predicted, color='blue', label='prddicted_value')\n",
        "plt.plot(y_test, color='green', label='ACTUAL_VALUES')\n",
        "plt.title('Actual price Vs Predicted price')\n",
        "plt.ylabel('GLD PRICE')\n",
        "plt.xlabel('Value')\n",
        "plt.legend()\n",
        "plt.show()"
      ],
      "execution_count": 49,
      "outputs": [
        {
          "output_type": "display_data",
          "data": {
            "image/png": "[encoded data removed]",
            "text/plain": [
              "<Figure size 432x288 with 1 Axes>"
            ]
          },
          "metadata": {
            "tags": [],
            "needs_background": "light"
          }
        }
      ]
    }
  ]
}